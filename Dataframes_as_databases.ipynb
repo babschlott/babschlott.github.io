{
  "nbformat": 4,
  "nbformat_minor": 0,
  "metadata": {
    "colab": {
      "name": "Copy of DataframeBD.ipynb",
      "provenance": [],
      "collapsed_sections": [],
      "include_colab_link": true
    },
    "kernelspec": {
      "display_name": "Python 3",
      "language": "python",
      "name": "python3"
    },
    "language_info": {
      "codemirror_mode": {
        "name": "ipython",
        "version": 3
      },
      "file_extension": ".py",
      "mimetype": "text/x-python",
      "name": "python",
      "nbconvert_exporter": "python",
      "pygments_lexer": "ipython3",
      "version": "3.6.8"
    }
  },
  "cells": [
    {
      "cell_type": "markdown",
      "metadata": {
        "id": "view-in-github",
        "colab_type": "text"
      },
      "source": [
        "<a href=\"https://colab.research.google.com/github/babschlott/babschlott.github.io/blob/master/Dataframes_as_databases.ipynb\" target=\"_parent\"><img src=\"https://colab.research.google.com/assets/colab-badge.svg\" alt=\"Open In Colab\"/></a>"
      ]
    },
    {
      "cell_type": "markdown",
      "metadata": {
        "colab_type": "text",
        "id": "E-vde5UCQRkQ"
      },
      "source": [
        "# Dataframes as Data Base"
      ]
    },
    {
      "cell_type": "markdown",
      "metadata": {
        "colab_type": "text",
        "id": "9He81AacH7Dk"
      },
      "source": [
        "Pandas dataframes offer different ways to query data.\n",
        "\n",
        "In some cases, these queries can become as elaborate as in traditional databases.\n",
        "\n",
        "In this notebook, we will see how to make simple queries to a dataset loaded from the internet.\n",
        "\n",
        "## Loading data from the internet\n",
        "There are several ways to work with data loaded from the internet.\n",
        "\n",
        "Here, we will download the dataset using a Linux tool and load it into Pandas."
      ]
    },
    {
      "cell_type": "markdown",
      "metadata": {
        "colab_type": "text",
        "id": "MyR5JpdlW4Oq"
      },
      "source": [
        "### Downloading a dataset with `wget`\n",
        "\n",
        "Running a notebook on Colab is done on a computer on Google's infrastructure.\n",
        "\n",
        "Google computers use the Linux operating system and we can take advantage of that when a Linux program can help us.\n",
        "\n",
        "An example is the program ``wget``, which downloads the URL we provide.\n",
        "\n",
        "To run a Linux program on Colab, we have to do this by code cells, using Linux terminal commands beginning with the symbol ``!``\n",
        "\n",
        "In this case, I used the ``wget`` to download a dataset from the UFRN open data portal that contains the incoming students in 2019:"
      ]
    },
    {
      "cell_type": "code",
      "metadata": {
        "colab_type": "code",
        "id": "OxJWg_znp9sr",
        "outputId": "dbe455f3-2f7f-46e8-bc96-28dd4ed6e193",
        "colab": {
          "base_uri": "https://localhost:8080/",
          "height": 224
        }
      },
      "source": [
        "!wget http://dados.ufrn.br/dataset/554c2d41-cfce-4278-93c6-eb9aa49c5d16/resource/a55aef81-e094-4267-8643-f283524e3dd7/download/discentes-2019.csv"
      ],
      "execution_count": 0,
      "outputs": [
        {
          "output_type": "stream",
          "text": [
            "--2020-03-10 21:58:52--  http://dados.ufrn.br/dataset/554c2d41-cfce-4278-93c6-eb9aa49c5d16/resource/a55aef81-e094-4267-8643-f283524e3dd7/download/discentes-2019.csv\n",
            "Resolving dados.ufrn.br (dados.ufrn.br)... 177.20.146.38\n",
            "Connecting to dados.ufrn.br (dados.ufrn.br)|177.20.146.38|:80... connected.\n",
            "HTTP request sent, awaiting response... 200 OK\n",
            "Length: 4070717 (3.9M) [text/csv]\n",
            "Saving to: ‘discentes-2019.csv’\n",
            "\n",
            "discentes-2019.csv  100%[===================>]   3.88M  2.88MB/s    in 1.3s    \n",
            "\n",
            "2020-03-10 21:58:54 (2.88 MB/s) - ‘discentes-2019.csv’ saved [4070717/4070717]\n",
            "\n"
          ],
          "name": "stdout"
        }
      ]
    },
    {
      "cell_type": "markdown",
      "metadata": {
        "colab_type": "text",
        "id": "uGNACj0msDF4"
      },
      "source": [
        "The file ``discentes-2019.csv`` should appear in the file list on the left side of the screen.\n",
        "\n",
        "### Loading the dataset\n",
        "\n",
        "Let's upload the file as a Pandas dataframe:"
      ]
    },
    {
      "cell_type": "code",
      "metadata": {
        "colab_type": "code",
        "id": "gwSjQx6bvTCM",
        "outputId": "bcb76d27-3388-484f-f9d8-b513165d335d",
        "colab": {
          "base_uri": "https://localhost:8080/",
          "height": 513
        }
      },
      "source": [
        "import pandas as pd\n",
        "data = pd.read_csv('discentes-2019.csv', sep=';')\n",
        "data.head()"
      ],
      "execution_count": 0,
      "outputs": [
        {
          "output_type": "execute_result",
          "data": {
            "text/html": [
              "<div>\n",
              "<style scoped>\n",
              "    .dataframe tbody tr th:only-of-type {\n",
              "        vertical-align: middle;\n",
              "    }\n",
              "\n",
              "    .dataframe tbody tr th {\n",
              "        vertical-align: top;\n",
              "    }\n",
              "\n",
              "    .dataframe thead th {\n",
              "        text-align: right;\n",
              "    }\n",
              "</style>\n",
              "<table border=\"1\" class=\"dataframe\">\n",
              "  <thead>\n",
              "    <tr style=\"text-align: right;\">\n",
              "      <th></th>\n",
              "      <th>matricula</th>\n",
              "      <th>nome_discente</th>\n",
              "      <th>sexo</th>\n",
              "      <th>ano_ingresso</th>\n",
              "      <th>periodo_ingresso</th>\n",
              "      <th>forma_ingresso</th>\n",
              "      <th>tipo_discente</th>\n",
              "      <th>status</th>\n",
              "      <th>sigla_nivel_ensino</th>\n",
              "      <th>nivel_ensino</th>\n",
              "      <th>id_curso</th>\n",
              "      <th>nome_curso</th>\n",
              "      <th>modalidade_educacao</th>\n",
              "      <th>id_unidade</th>\n",
              "      <th>nome_unidade</th>\n",
              "      <th>id_unidade_gestora</th>\n",
              "      <th>nome_unidade_gestora</th>\n",
              "    </tr>\n",
              "  </thead>\n",
              "  <tbody>\n",
              "    <tr>\n",
              "      <th>0</th>\n",
              "      <td>20193012209</td>\n",
              "      <td>ABDENOR BEZERRA DOS SANTOS</td>\n",
              "      <td>M</td>\n",
              "      <td>2019</td>\n",
              "      <td>1.0</td>\n",
              "      <td>PROCESSO SELETIVO</td>\n",
              "      <td>REGULAR</td>\n",
              "      <td>CANCELADO</td>\n",
              "      <td>T</td>\n",
              "      <td>TÉCNICO</td>\n",
              "      <td>96054058.0</td>\n",
              "      <td>CURSO TÉCNICO DA METRÓPOLE DIGITAL</td>\n",
              "      <td>SEMI-PRESENCIAL</td>\n",
              "      <td>6069.0</td>\n",
              "      <td>INSTITUTO METROPOLE DIGITAL</td>\n",
              "      <td>605.0</td>\n",
              "      <td>UNIVERSIDADE FEDERAL DO RIO GRANDE DO NORTE</td>\n",
              "    </tr>\n",
              "    <tr>\n",
              "      <th>1</th>\n",
              "      <td>20190088900</td>\n",
              "      <td>ABDIAS MONTEIRO DE ANDRADE MELO</td>\n",
              "      <td>M</td>\n",
              "      <td>2019</td>\n",
              "      <td>1.0</td>\n",
              "      <td>SiSU</td>\n",
              "      <td>REGULAR</td>\n",
              "      <td>ATIVO</td>\n",
              "      <td>G</td>\n",
              "      <td>GRADUAÇÃO</td>\n",
              "      <td>111635060.0</td>\n",
              "      <td>HISTÓRIA</td>\n",
              "      <td>PRESENCIAL</td>\n",
              "      <td>1482.0</td>\n",
              "      <td>CENTRO DE  ENSINO SUPERIOR DO SERIDÓ</td>\n",
              "      <td>1482.0</td>\n",
              "      <td>CENTRO DE  ENSINO SUPERIOR DO SERIDÓ</td>\n",
              "    </tr>\n",
              "    <tr>\n",
              "      <th>2</th>\n",
              "      <td>20190127606</td>\n",
              "      <td>ABDIAS SABINO RODRIGUES FILHO</td>\n",
              "      <td>M</td>\n",
              "      <td>2019</td>\n",
              "      <td>1.0</td>\n",
              "      <td>SiSU</td>\n",
              "      <td>REGULAR</td>\n",
              "      <td>CANCELADO</td>\n",
              "      <td>G</td>\n",
              "      <td>GRADUAÇÃO</td>\n",
              "      <td>111635060.0</td>\n",
              "      <td>HISTÓRIA</td>\n",
              "      <td>PRESENCIAL</td>\n",
              "      <td>1482.0</td>\n",
              "      <td>CENTRO DE  ENSINO SUPERIOR DO SERIDÓ</td>\n",
              "      <td>1482.0</td>\n",
              "      <td>CENTRO DE  ENSINO SUPERIOR DO SERIDÓ</td>\n",
              "    </tr>\n",
              "    <tr>\n",
              "      <th>3</th>\n",
              "      <td>20195001008</td>\n",
              "      <td>ABEL GOMES DE OLIVEIRA FILHO</td>\n",
              "      <td>M</td>\n",
              "      <td>2019</td>\n",
              "      <td>1.0</td>\n",
              "      <td>PROCESSO SELETIVO</td>\n",
              "      <td>REGULAR</td>\n",
              "      <td>ATIVO</td>\n",
              "      <td>F</td>\n",
              "      <td>FORMAÇÃO COMPLEMENTAR</td>\n",
              "      <td>112718836.0</td>\n",
              "      <td>CURSO DE LÍNGUA BRASILEIRA DE SINAIS (LIBRAS)</td>\n",
              "      <td>PRESENCIAL</td>\n",
              "      <td>6042.0</td>\n",
              "      <td>INSTITUTO ÁGORA - LÍNGUAS, LITERATURAS E CULTU...</td>\n",
              "      <td>442.0</td>\n",
              "      <td>CENTRO DE CIÊNCIAS HUMANAS, LETRAS E ARTES</td>\n",
              "    </tr>\n",
              "    <tr>\n",
              "      <th>4</th>\n",
              "      <td>20190032217</td>\n",
              "      <td>ABI AMANA DE AQUINO BEZERRA</td>\n",
              "      <td>F</td>\n",
              "      <td>2019</td>\n",
              "      <td>2.0</td>\n",
              "      <td>SiSU</td>\n",
              "      <td>REGULAR</td>\n",
              "      <td>ATIVO</td>\n",
              "      <td>G</td>\n",
              "      <td>GRADUAÇÃO</td>\n",
              "      <td>119512361.0</td>\n",
              "      <td>COMUNICAÇÃO SOCIAL - AUDIOVISUAL</td>\n",
              "      <td>PRESENCIAL</td>\n",
              "      <td>442.0</td>\n",
              "      <td>CENTRO DE CIÊNCIAS HUMANAS, LETRAS E ARTES</td>\n",
              "      <td>442.0</td>\n",
              "      <td>CENTRO DE CIÊNCIAS HUMANAS, LETRAS E ARTES</td>\n",
              "    </tr>\n",
              "  </tbody>\n",
              "</table>\n",
              "</div>"
            ],
            "text/plain": [
              "     matricula  ...                         nome_unidade_gestora\n",
              "0  20193012209  ...  UNIVERSIDADE FEDERAL DO RIO GRANDE DO NORTE\n",
              "1  20190088900  ...         CENTRO DE  ENSINO SUPERIOR DO SERIDÓ\n",
              "2  20190127606  ...         CENTRO DE  ENSINO SUPERIOR DO SERIDÓ\n",
              "3  20195001008  ...   CENTRO DE CIÊNCIAS HUMANAS, LETRAS E ARTES\n",
              "4  20190032217  ...   CENTRO DE CIÊNCIAS HUMANAS, LETRAS E ARTES\n",
              "\n",
              "[5 rows x 17 columns]"
            ]
          },
          "metadata": {
            "tags": []
          },
          "execution_count": 3
        }
      ]
    },
    {
      "cell_type": "markdown",
      "metadata": {
        "colab_type": "text",
        "id": "cxMtfVo6sqgl"
      },
      "source": [
        "If you have any questions, let's review the code above:\n",
        " - ```python\n",
        " import pandas as pd\n",
        " ```\n",
        " We imported Pandas and asked to call it ``pd``\n",
        " ```python\n",
        "data = pd.read_csv('discentes-2019.csv', sep=';')\n",
        " ```\n",
        " - As we use a name for Pandas, all of its commands will be located from that name (ex.: ``pd.read_csv()``)\n",
        " - We inform the character that is used in the dataset as a feature delimiter using the option ``sep=';'`` (normally Pandas can detect this automatically, but in Brazilian datasets it is common to go wrong)\n",
        " ```python\n",
        " data.head()\n",
        " ```\n",
        " We visualize the first observations of the dataset with the method ``head()``\n"
      ]
    },
    {
      "cell_type": "markdown",
      "metadata": {
        "colab_type": "text",
        "id": "0bLccn8pwD8o"
      },
      "source": [
        "## Querying a dataframe\n",
        "\n",
        "Well, we already have our dataframe ready for consultation.\n",
        "\n",
        "The simplest forms of consultation are **indexing** and **slicing**.\n",
        "\n",
        "### Indexing a dataset\n",
        "\n",
        "Queries on a Pandas dataframe are made from **indexes**.\n",
        "\n",
        "The main index on a dataframe is that of the columns, which represent the characteristics:\n",
        "\n"
      ]
    },
    {
      "cell_type": "code",
      "metadata": {
        "colab_type": "code",
        "id": "EPanQZfunULU",
        "outputId": "3cbae7ef-7dec-401f-cc26-122a8fd2f871",
        "colab": {
          "base_uri": "https://localhost:8080/",
          "height": 121
        }
      },
      "source": [
        "data.columns"
      ],
      "execution_count": 0,
      "outputs": [
        {
          "output_type": "execute_result",
          "data": {
            "text/plain": [
              "Index(['matricula', 'nome_discente', 'sexo', 'ano_ingresso',\n",
              "       'periodo_ingresso', 'forma_ingresso', 'tipo_discente', 'status',\n",
              "       'sigla_nivel_ensino', 'nivel_ensino', 'id_curso', 'nome_curso',\n",
              "       'modalidade_educacao', 'id_unidade', 'nome_unidade',\n",
              "       'id_unidade_gestora', 'nome_unidade_gestora'],\n",
              "      dtype='object')"
            ]
          },
          "metadata": {
            "tags": []
          },
          "execution_count": 5
        }
      ]
    },
    {
      "cell_type": "markdown",
      "metadata": {
        "colab_type": "text",
        "id": "Q99w62hIGwxo"
      },
      "source": [
        "Pandas response is a bit verbose (polluted), but the part that matters to us is the list of column names.\n",
        "\n",
        "In Python, a list is represented by the notation `[element_1, element_2, ..., element_n]`:\n",
        "\n",
        "````python\n",
        "['matricula', 'nome_discente', 'sexo', 'ano_ingresso',\n",
        "'periodo_ingresso', 'forma_ingresso', 'tipo_discente', 'status',\n",
        "'sigla_nivel_ensino', 'nivel_ensino', 'id_curso', 'nome_curso',\n",
        "'modalidade_educacao', 'id_unidade', 'nome_unidade',\n",
        "'id_unidade_gestora', 'nome_unidade_gestora']\n",
        "````\n"
      ]
    },
    {
      "cell_type": "markdown",
      "metadata": {
        "colab_type": "text",
        "id": "QQkfJXoWHJ18"
      },
      "source": [
        "This means that we can access any of these dataframe columns using the notations `data['column_name']` and `data.column_name`\n",
        "\n",
        "As each column is considered a series (object of type `Series`), we can use the methods of that type:"
      ]
    },
    {
      "cell_type": "code",
      "metadata": {
        "colab_type": "code",
        "id": "PWnsq32eHJTB",
        "outputId": "a4b9ded7-feb5-47d5-f5b2-b8c6d0ecb78c",
        "colab": {
          "base_uri": "https://localhost:8080/",
          "height": 119
        }
      },
      "source": [
        "data[\"nome_discente\"].head()"
      ],
      "execution_count": 0,
      "outputs": [
        {
          "output_type": "execute_result",
          "data": {
            "text/plain": [
              "0         ABDENOR BEZERRA DOS SANTOS\n",
              "1    ABDIAS MONTEIRO DE ANDRADE MELO\n",
              "2      ABDIAS SABINO RODRIGUES FILHO\n",
              "3       ABEL GOMES DE OLIVEIRA FILHO\n",
              "4        ABI AMANA DE AQUINO BEZERRA\n",
              "Name: nome_discente, dtype: object"
            ]
          },
          "metadata": {
            "tags": []
          },
          "execution_count": 4
        }
      ]
    },
    {
      "cell_type": "code",
      "metadata": {
        "colab_type": "code",
        "id": "PKFVIl4uJO_w",
        "outputId": "d9efbe11-519d-4de8-c512-8d8d4a0525d0",
        "colab": {
          "base_uri": "https://localhost:8080/",
          "height": 119
        }
      },
      "source": [
        "data.nome_unidade.tail()"
      ],
      "execution_count": 0,
      "outputs": [
        {
          "output_type": "execute_result",
          "data": {
            "text/plain": [
              "16013                                                  NaN\n",
              "16014    FACULDADE DE CIÊNCIAS DA SAÚDE DO TRAIRI - FACISA\n",
              "16015                                   CENTRO DE EDUCAÇÃO\n",
              "16016                          CENTRO DE CIÊNCIAS DA SAÚDE\n",
              "16017    INSTITUTO ÁGORA - LÍNGUAS, LITERATURAS E CULTU...\n",
              "Name: nome_unidade, dtype: object"
            ]
          },
          "metadata": {
            "tags": []
          },
          "execution_count": 5
        }
      ]
    },
    {
      "cell_type": "markdown",
      "metadata": {
        "colab_type": "text",
        "id": "MuP5PPjsJY4p"
      },
      "source": [
        "The data in a series is also indexed.\n",
        "\n",
        "We can access them individually using the notation `series[row_number]`:"
      ]
    },
    {
      "cell_type": "code",
      "metadata": {
        "colab_type": "code",
        "id": "kiTFTNURKj1y",
        "outputId": "cb676dc0-d8af-4ec6-cf97-932b1d1e5f27",
        "colab": {
          "base_uri": "https://localhost:8080/",
          "height": 34
        }
      },
      "source": [
        "nomes_discentes = data[\"nome_discente\"]\n",
        "nomes_discentes[0]"
      ],
      "execution_count": 0,
      "outputs": [
        {
          "output_type": "execute_result",
          "data": {
            "text/plain": [
              "'ABDENOR BEZERRA DOS SANTOS'"
            ]
          },
          "metadata": {
            "tags": []
          },
          "execution_count": 8
        }
      ]
    },
    {
      "cell_type": "code",
      "metadata": {
        "colab_type": "code",
        "id": "FXpX4DS1LWCw",
        "outputId": "09b85272-bbc4-4397-d0ec-7d1f2c052199",
        "colab": {
          "base_uri": "https://localhost:8080/",
          "height": 34
        }
      },
      "source": [
        "data[\"nome_discente\"][0]"
      ],
      "execution_count": 0,
      "outputs": [
        {
          "output_type": "execute_result",
          "data": {
            "text/plain": [
              "'ABDENOR BEZERRA DOS SANTOS'"
            ]
          },
          "metadata": {
            "tags": []
          },
          "execution_count": 11
        }
      ]
    },
    {
      "cell_type": "code",
      "metadata": {
        "colab_type": "code",
        "id": "HcZGxZm1LiXQ",
        "outputId": "87b84934-ccd9-4a1b-d948-9dce08f4cb6d",
        "colab": {
          "base_uri": "https://localhost:8080/",
          "height": 34
        }
      },
      "source": [
        "data.nome_unidade[0]"
      ],
      "execution_count": 0,
      "outputs": [
        {
          "output_type": "execute_result",
          "data": {
            "text/plain": [
              "'INSTITUTO METROPOLE DIGITAL'"
            ]
          },
          "metadata": {
            "tags": []
          },
          "execution_count": 12
        }
      ]
    },
    {
      "cell_type": "markdown",
      "metadata": {
        "colab_type": "text",
        "id": "Zd8LWkveyWBv"
      },
      "source": [
        "It is also possible to directly access the data using the methods `loc` and `iloc`:\n",
        "- Referring to columns by their names, using the notation `data.loc[row, column_name]`\n",
        ":"
      ]
    },
    {
      "cell_type": "code",
      "metadata": {
        "colab_type": "code",
        "id": "WgePGZkWNOU1",
        "colab": {}
      },
      "source": [
        "data.loc[0, \"nome_discente\"]"
      ],
      "execution_count": 0,
      "outputs": []
    },
    {
      "cell_type": "markdown",
      "metadata": {
        "colab_type": "text",
        "id": "mWl7e570OUP0"
      },
      "source": [
        "- Referring to columns by their position in the column index, using the notation `data.iloc[row, column_index]`"
      ]
    },
    {
      "cell_type": "code",
      "metadata": {
        "colab_type": "code",
        "id": "T7Gq23b2Nohl",
        "outputId": "c7454369-2468-4fe7-9935-d8504dfb5b59",
        "colab": {
          "base_uri": "https://localhost:8080/",
          "height": 34
        }
      },
      "source": [
        "data.iloc[0, 1]"
      ],
      "execution_count": 0,
      "outputs": [
        {
          "output_type": "execute_result",
          "data": {
            "text/plain": [
              "'ABDENOR BEZERRA DOS SANTOS'"
            ]
          },
          "metadata": {
            "tags": []
          },
          "execution_count": 9
        }
      ]
    },
    {
      "cell_type": "markdown",
      "metadata": {
        "colab_type": "text",
        "id": "BcDrpBu1Ph04"
      },
      "source": [
        "Note that the indexes are counted from the number 0. Since `\"nome_discente\"` is the second column, we use index 1 to access it.\n",
        "\n",
        "The methods `loc` and `iloc` they also accept that you provide a list of indexes."
      ]
    },
    {
      "cell_type": "code",
      "metadata": {
        "colab_type": "code",
        "id": "7QUL-EOQQn2o",
        "outputId": "4ecc2bb7-35bb-4e30-8375-0fcba08b57c2",
        "colab": {
          "base_uri": "https://localhost:8080/",
          "height": 68
        }
      },
      "source": [
        "data.loc[0, [\"nome_discente\",\"nome_curso\"]]"
      ],
      "execution_count": 0,
      "outputs": [
        {
          "output_type": "execute_result",
          "data": {
            "text/plain": [
              "nome_discente            ABDENOR BEZERRA DOS SANTOS\n",
              "nome_curso       CURSO TÉCNICO DA METRÓPOLE DIGITAL\n",
              "Name: 0, dtype: object"
            ]
          },
          "metadata": {
            "tags": []
          },
          "execution_count": 10
        }
      ]
    },
    {
      "cell_type": "code",
      "metadata": {
        "colab_type": "code",
        "id": "p8oN5MMZRBwi",
        "outputId": "fa4c28e6-ce1f-4427-e49d-973040a27970",
        "colab": {
          "base_uri": "https://localhost:8080/",
          "height": 85
        }
      },
      "source": [
        "data.iloc[[1,3,7], 1]"
      ],
      "execution_count": 0,
      "outputs": [
        {
          "output_type": "execute_result",
          "data": {
            "text/plain": [
              "1        ABDIAS MONTEIRO DE ANDRADE MELO\n",
              "3           ABEL GOMES DE OLIVEIRA FILHO\n",
              "7    ABIGAIL SARA PALOMA SILVA DAMASCENO\n",
              "Name: nome_discente, dtype: object"
            ]
          },
          "metadata": {
            "tags": []
          },
          "execution_count": 13
        }
      ]
    },
    {
      "cell_type": "markdown",
      "metadata": {
        "colab_type": "text",
        "id": "ogHt3AlMRG5i"
      },
      "source": [
        "**P.S:** For those who are more familiar with Python, the methods\n",
        "\n",
        "`loc` and `iloc` accept any iterable type."
      ]
    },
    {
      "cell_type": "markdown",
      "metadata": {
        "colab_type": "text",
        "id": "hjtzZhzlP-ku"
      },
      "source": [
        "### Slicing the dataset"
      ]
    },
    {
      "cell_type": "markdown",
      "metadata": {
        "colab_type": "text",
        "id": "iN1qf9NgNpVN"
      },
      "source": [
        "In most of the cases we're only interested in a particular subset of the data containing some continuous columns/rows.\n",
        "\n",
        "Selecting that subset can be done by using these slicing operations:\n",
        "- Slicing by rows, using `data.loc[row_start:row_end, column_name]`:\n",
        "\n",
        "---\n",
        "\n"
      ]
    },
    {
      "cell_type": "code",
      "metadata": {
        "colab_type": "code",
        "id": "AJPtTJxqDmTD",
        "outputId": "5f1bd82f-2086-405c-a481-b58198412e9a",
        "colab": {
          "base_uri": "https://localhost:8080/",
          "height": 221
        }
      },
      "source": [
        "data.loc[0:500,'nome_discente']"
      ],
      "execution_count": 0,
      "outputs": [
        {
          "output_type": "execute_result",
          "data": {
            "text/plain": [
              "0                   ABDENOR BEZERRA DOS SANTOS\n",
              "1              ABDIAS MONTEIRO DE ANDRADE MELO\n",
              "2                ABDIAS SABINO RODRIGUES FILHO\n",
              "3                 ABEL GOMES DE OLIVEIRA FILHO\n",
              "4                  ABI AMANA DE AQUINO BEZERRA\n",
              "                        ...                   \n",
              "496               ALINE NASCIMENTO VASCONCELOS\n",
              "497               ALINE NASCIMENTO VASCONCELOS\n",
              "498                    ALINE PEROBA PITOMBEIRA\n",
              "499    ALINE RAGNINI BENEVIDES CORREIA CORREIA\n",
              "500                        ALINE RAMOS MOREIRA\n",
              "Name: nome_discente, Length: 501, dtype: object"
            ]
          },
          "metadata": {
            "tags": []
          },
          "execution_count": 14
        }
      ]
    },
    {
      "cell_type": "markdown",
      "metadata": {
        "colab_type": "text",
        "id": "tETV_5sCOcoQ"
      },
      "source": [
        "* By rows and columns simultaneously  based on their positions in the dataframe, using `data.iloc[row_start:row_end, column_start:column_end]`:"
      ]
    },
    {
      "cell_type": "code",
      "metadata": {
        "colab_type": "code",
        "id": "X716AoGBDvcN",
        "outputId": "63ec6db9-96cb-4aaa-c0d8-545ea5016a20",
        "colab": {
          "base_uri": "https://localhost:8080/",
          "height": 204
        }
      },
      "source": [
        "data.iloc[0:5, 5:8]"
      ],
      "execution_count": 0,
      "outputs": [
        {
          "output_type": "execute_result",
          "data": {
            "text/html": [
              "<div>\n",
              "<style scoped>\n",
              "    .dataframe tbody tr th:only-of-type {\n",
              "        vertical-align: middle;\n",
              "    }\n",
              "\n",
              "    .dataframe tbody tr th {\n",
              "        vertical-align: top;\n",
              "    }\n",
              "\n",
              "    .dataframe thead th {\n",
              "        text-align: right;\n",
              "    }\n",
              "</style>\n",
              "<table border=\"1\" class=\"dataframe\">\n",
              "  <thead>\n",
              "    <tr style=\"text-align: right;\">\n",
              "      <th></th>\n",
              "      <th>forma_ingresso</th>\n",
              "      <th>tipo_discente</th>\n",
              "      <th>status</th>\n",
              "    </tr>\n",
              "  </thead>\n",
              "  <tbody>\n",
              "    <tr>\n",
              "      <th>0</th>\n",
              "      <td>PROCESSO SELETIVO</td>\n",
              "      <td>REGULAR</td>\n",
              "      <td>CANCELADO</td>\n",
              "    </tr>\n",
              "    <tr>\n",
              "      <th>1</th>\n",
              "      <td>SiSU</td>\n",
              "      <td>REGULAR</td>\n",
              "      <td>ATIVO</td>\n",
              "    </tr>\n",
              "    <tr>\n",
              "      <th>2</th>\n",
              "      <td>SiSU</td>\n",
              "      <td>REGULAR</td>\n",
              "      <td>CANCELADO</td>\n",
              "    </tr>\n",
              "    <tr>\n",
              "      <th>3</th>\n",
              "      <td>PROCESSO SELETIVO</td>\n",
              "      <td>REGULAR</td>\n",
              "      <td>ATIVO</td>\n",
              "    </tr>\n",
              "    <tr>\n",
              "      <th>4</th>\n",
              "      <td>SiSU</td>\n",
              "      <td>REGULAR</td>\n",
              "      <td>ATIVO</td>\n",
              "    </tr>\n",
              "  </tbody>\n",
              "</table>\n",
              "</div>"
            ],
            "text/plain": [
              "      forma_ingresso tipo_discente     status\n",
              "0  PROCESSO SELETIVO       REGULAR  CANCELADO\n",
              "1               SiSU       REGULAR      ATIVO\n",
              "2               SiSU       REGULAR  CANCELADO\n",
              "3  PROCESSO SELETIVO       REGULAR      ATIVO\n",
              "4               SiSU       REGULAR      ATIVO"
            ]
          },
          "metadata": {
            "tags": []
          },
          "execution_count": 15
        }
      ]
    },
    {
      "cell_type": "markdown",
      "metadata": {
        "colab_type": "text",
        "id": "PqlltwoMOqsv"
      },
      "source": [
        "It's important  to notice that slicing operations in Python usually includes the element located by the first index, but it doesn't include the element located by the second index.  This means  that when selecting multiple columns or multiple rows in this manner, you need to remember that in your selection the rows/columns selected will run from the first number to one minus the second number. \n",
        "\n",
        "This is why the example `data.iloc[0:5, 5:8]` returns 5 rows and 3 columns.\n",
        "\n",
        "The `loc` method is an exception: it also includes the row referenced by the second index.\n",
        "\n",
        "This is why the example `data.loc[0:500,'nome_discente']` returns 501 rows.\n",
        "\n",
        "\n",
        "You can also slice by columns in `loc` method, but this has to be done by the  columns labels. This is probably the reason why the second element in the index is also included."
      ]
    },
    {
      "cell_type": "code",
      "metadata": {
        "colab_type": "code",
        "id": "xt4OTMXsPGrH",
        "outputId": "e662f7e9-a352-464a-b0c1-d817450db15a",
        "colab": {
          "base_uri": "https://localhost:8080/",
          "height": 419
        }
      },
      "source": [
        "data.loc[0:500, 'nome_discente':'ano_ingresso']"
      ],
      "execution_count": 0,
      "outputs": [
        {
          "output_type": "execute_result",
          "data": {
            "text/html": [
              "<div>\n",
              "<style scoped>\n",
              "    .dataframe tbody tr th:only-of-type {\n",
              "        vertical-align: middle;\n",
              "    }\n",
              "\n",
              "    .dataframe tbody tr th {\n",
              "        vertical-align: top;\n",
              "    }\n",
              "\n",
              "    .dataframe thead th {\n",
              "        text-align: right;\n",
              "    }\n",
              "</style>\n",
              "<table border=\"1\" class=\"dataframe\">\n",
              "  <thead>\n",
              "    <tr style=\"text-align: right;\">\n",
              "      <th></th>\n",
              "      <th>nome_discente</th>\n",
              "      <th>sexo</th>\n",
              "      <th>ano_ingresso</th>\n",
              "    </tr>\n",
              "  </thead>\n",
              "  <tbody>\n",
              "    <tr>\n",
              "      <th>0</th>\n",
              "      <td>ABDENOR BEZERRA DOS SANTOS</td>\n",
              "      <td>M</td>\n",
              "      <td>2019</td>\n",
              "    </tr>\n",
              "    <tr>\n",
              "      <th>1</th>\n",
              "      <td>ABDIAS MONTEIRO DE ANDRADE MELO</td>\n",
              "      <td>M</td>\n",
              "      <td>2019</td>\n",
              "    </tr>\n",
              "    <tr>\n",
              "      <th>2</th>\n",
              "      <td>ABDIAS SABINO RODRIGUES FILHO</td>\n",
              "      <td>M</td>\n",
              "      <td>2019</td>\n",
              "    </tr>\n",
              "    <tr>\n",
              "      <th>3</th>\n",
              "      <td>ABEL GOMES DE OLIVEIRA FILHO</td>\n",
              "      <td>M</td>\n",
              "      <td>2019</td>\n",
              "    </tr>\n",
              "    <tr>\n",
              "      <th>4</th>\n",
              "      <td>ABI AMANA DE AQUINO BEZERRA</td>\n",
              "      <td>F</td>\n",
              "      <td>2019</td>\n",
              "    </tr>\n",
              "    <tr>\n",
              "      <th>...</th>\n",
              "      <td>...</td>\n",
              "      <td>...</td>\n",
              "      <td>...</td>\n",
              "    </tr>\n",
              "    <tr>\n",
              "      <th>496</th>\n",
              "      <td>ALINE NASCIMENTO VASCONCELOS</td>\n",
              "      <td>F</td>\n",
              "      <td>2019</td>\n",
              "    </tr>\n",
              "    <tr>\n",
              "      <th>497</th>\n",
              "      <td>ALINE NASCIMENTO VASCONCELOS</td>\n",
              "      <td>F</td>\n",
              "      <td>2019</td>\n",
              "    </tr>\n",
              "    <tr>\n",
              "      <th>498</th>\n",
              "      <td>ALINE PEROBA PITOMBEIRA</td>\n",
              "      <td>F</td>\n",
              "      <td>2019</td>\n",
              "    </tr>\n",
              "    <tr>\n",
              "      <th>499</th>\n",
              "      <td>ALINE RAGNINI BENEVIDES CORREIA CORREIA</td>\n",
              "      <td>F</td>\n",
              "      <td>2019</td>\n",
              "    </tr>\n",
              "    <tr>\n",
              "      <th>500</th>\n",
              "      <td>ALINE RAMOS MOREIRA</td>\n",
              "      <td>F</td>\n",
              "      <td>2019</td>\n",
              "    </tr>\n",
              "  </tbody>\n",
              "</table>\n",
              "<p>501 rows × 3 columns</p>\n",
              "</div>"
            ],
            "text/plain": [
              "                               nome_discente sexo  ano_ingresso\n",
              "0                 ABDENOR BEZERRA DOS SANTOS    M          2019\n",
              "1            ABDIAS MONTEIRO DE ANDRADE MELO    M          2019\n",
              "2              ABDIAS SABINO RODRIGUES FILHO    M          2019\n",
              "3               ABEL GOMES DE OLIVEIRA FILHO    M          2019\n",
              "4                ABI AMANA DE AQUINO BEZERRA    F          2019\n",
              "..                                       ...  ...           ...\n",
              "496             ALINE NASCIMENTO VASCONCELOS    F          2019\n",
              "497             ALINE NASCIMENTO VASCONCELOS    F          2019\n",
              "498                  ALINE PEROBA PITOMBEIRA    F          2019\n",
              "499  ALINE RAGNINI BENEVIDES CORREIA CORREIA    F          2019\n",
              "500                      ALINE RAMOS MOREIRA    F          2019\n",
              "\n",
              "[501 rows x 3 columns]"
            ]
          },
          "metadata": {
            "tags": []
          },
          "execution_count": 16
        }
      ]
    },
    {
      "cell_type": "markdown",
      "metadata": {
        "colab_type": "text",
        "id": "zK2I__X1VaCz"
      },
      "source": [
        "## Queries just like those made in database development\n",
        "\n"
      ]
    },
    {
      "cell_type": "markdown",
      "metadata": {
        "colab_type": "text",
        "id": "7nGWbGXrVdUz"
      },
      "source": [
        "The indexing and slicing operations are inherent to Python language and  that's why they are implemented in Pandas.\n",
        "\n",
        "Partially they help transforming **selection** and **projection** into operations, both common in databases:\n",
        "- **Selection**: choosing a subset of samples\n",
        "- **Projection**: choosing a subset of attributes/features\n",
        "\n",
        "Pandas Dataframes provide more methods to these type of queries."
      ]
    },
    {
      "cell_type": "markdown",
      "metadata": {
        "colab_type": "text",
        "id": "Yr8LpSswZ_HV"
      },
      "source": [
        "#### Searching for the features’ name\n",
        "\n",
        "The method **filter()** chooses a subset of features based on its name:"
      ]
    },
    {
      "cell_type": "code",
      "metadata": {
        "colab_type": "code",
        "id": "FzTKAWMsd_U4",
        "outputId": "7a29784d-8ea6-466c-c53c-608e44a96499",
        "colab": {
          "base_uri": "https://localhost:8080/",
          "height": 419
        }
      },
      "source": [
        "data.filter(like='ingresso')"
      ],
      "execution_count": 0,
      "outputs": [
        {
          "output_type": "execute_result",
          "data": {
            "text/html": [
              "<div>\n",
              "<style scoped>\n",
              "    .dataframe tbody tr th:only-of-type {\n",
              "        vertical-align: middle;\n",
              "    }\n",
              "\n",
              "    .dataframe tbody tr th {\n",
              "        vertical-align: top;\n",
              "    }\n",
              "\n",
              "    .dataframe thead th {\n",
              "        text-align: right;\n",
              "    }\n",
              "</style>\n",
              "<table border=\"1\" class=\"dataframe\">\n",
              "  <thead>\n",
              "    <tr style=\"text-align: right;\">\n",
              "      <th></th>\n",
              "      <th>ano_ingresso</th>\n",
              "      <th>periodo_ingresso</th>\n",
              "      <th>forma_ingresso</th>\n",
              "    </tr>\n",
              "  </thead>\n",
              "  <tbody>\n",
              "    <tr>\n",
              "      <th>0</th>\n",
              "      <td>2019</td>\n",
              "      <td>1.0</td>\n",
              "      <td>PROCESSO SELETIVO</td>\n",
              "    </tr>\n",
              "    <tr>\n",
              "      <th>1</th>\n",
              "      <td>2019</td>\n",
              "      <td>1.0</td>\n",
              "      <td>SiSU</td>\n",
              "    </tr>\n",
              "    <tr>\n",
              "      <th>2</th>\n",
              "      <td>2019</td>\n",
              "      <td>1.0</td>\n",
              "      <td>SiSU</td>\n",
              "    </tr>\n",
              "    <tr>\n",
              "      <th>3</th>\n",
              "      <td>2019</td>\n",
              "      <td>1.0</td>\n",
              "      <td>PROCESSO SELETIVO</td>\n",
              "    </tr>\n",
              "    <tr>\n",
              "      <th>4</th>\n",
              "      <td>2019</td>\n",
              "      <td>2.0</td>\n",
              "      <td>SiSU</td>\n",
              "    </tr>\n",
              "    <tr>\n",
              "      <th>...</th>\n",
              "      <td>...</td>\n",
              "      <td>...</td>\n",
              "      <td>...</td>\n",
              "    </tr>\n",
              "    <tr>\n",
              "      <th>16013</th>\n",
              "      <td>2019</td>\n",
              "      <td>2.0</td>\n",
              "      <td>ALUNO ESPECIAL POS-GRADUACAO</td>\n",
              "    </tr>\n",
              "    <tr>\n",
              "      <th>16014</th>\n",
              "      <td>2019</td>\n",
              "      <td>1.0</td>\n",
              "      <td>PROCESSO SELETIVO</td>\n",
              "    </tr>\n",
              "    <tr>\n",
              "      <th>16015</th>\n",
              "      <td>2019</td>\n",
              "      <td>1.0</td>\n",
              "      <td>SiSU</td>\n",
              "    </tr>\n",
              "    <tr>\n",
              "      <th>16016</th>\n",
              "      <td>2019</td>\n",
              "      <td>2.0</td>\n",
              "      <td>SiSU</td>\n",
              "    </tr>\n",
              "    <tr>\n",
              "      <th>16017</th>\n",
              "      <td>2019</td>\n",
              "      <td>2.0</td>\n",
              "      <td>PROCESSO SELETIVO</td>\n",
              "    </tr>\n",
              "  </tbody>\n",
              "</table>\n",
              "<p>16018 rows × 3 columns</p>\n",
              "</div>"
            ],
            "text/plain": [
              "       ano_ingresso  periodo_ingresso                forma_ingresso\n",
              "0              2019               1.0             PROCESSO SELETIVO\n",
              "1              2019               1.0                          SiSU\n",
              "2              2019               1.0                          SiSU\n",
              "3              2019               1.0             PROCESSO SELETIVO\n",
              "4              2019               2.0                          SiSU\n",
              "...             ...               ...                           ...\n",
              "16013          2019               2.0  ALUNO ESPECIAL POS-GRADUACAO\n",
              "16014          2019               1.0             PROCESSO SELETIVO\n",
              "16015          2019               1.0                          SiSU\n",
              "16016          2019               2.0                          SiSU\n",
              "16017          2019               2.0             PROCESSO SELETIVO\n",
              "\n",
              "[16018 rows x 3 columns]"
            ]
          },
          "metadata": {
            "tags": []
          },
          "execution_count": 17
        }
      ]
    },
    {
      "cell_type": "markdown",
      "metadata": {
        "colab_type": "text",
        "id": "Vn1YdnXPXOjC"
      },
      "source": [
        "The result of the method **filter** is a new `DataFrame` that can be associated to a new name:"
      ]
    },
    {
      "cell_type": "code",
      "metadata": {
        "colab_type": "code",
        "id": "cdBjaM_RXawY",
        "outputId": "604e5be0-ad88-4dfe-a273-a48261ca74e6",
        "colab": {
          "base_uri": "https://localhost:8080/",
          "height": 204
        }
      },
      "source": [
        "data_ingresso = data.filter(like='ingresso')\n",
        "data_ingresso.head()"
      ],
      "execution_count": 0,
      "outputs": [
        {
          "output_type": "execute_result",
          "data": {
            "text/html": [
              "<div>\n",
              "<style scoped>\n",
              "    .dataframe tbody tr th:only-of-type {\n",
              "        vertical-align: middle;\n",
              "    }\n",
              "\n",
              "    .dataframe tbody tr th {\n",
              "        vertical-align: top;\n",
              "    }\n",
              "\n",
              "    .dataframe thead th {\n",
              "        text-align: right;\n",
              "    }\n",
              "</style>\n",
              "<table border=\"1\" class=\"dataframe\">\n",
              "  <thead>\n",
              "    <tr style=\"text-align: right;\">\n",
              "      <th></th>\n",
              "      <th>ano_ingresso</th>\n",
              "      <th>periodo_ingresso</th>\n",
              "      <th>forma_ingresso</th>\n",
              "    </tr>\n",
              "  </thead>\n",
              "  <tbody>\n",
              "    <tr>\n",
              "      <th>0</th>\n",
              "      <td>2019</td>\n",
              "      <td>1.0</td>\n",
              "      <td>PROCESSO SELETIVO</td>\n",
              "    </tr>\n",
              "    <tr>\n",
              "      <th>1</th>\n",
              "      <td>2019</td>\n",
              "      <td>1.0</td>\n",
              "      <td>SiSU</td>\n",
              "    </tr>\n",
              "    <tr>\n",
              "      <th>2</th>\n",
              "      <td>2019</td>\n",
              "      <td>1.0</td>\n",
              "      <td>SiSU</td>\n",
              "    </tr>\n",
              "    <tr>\n",
              "      <th>3</th>\n",
              "      <td>2019</td>\n",
              "      <td>1.0</td>\n",
              "      <td>PROCESSO SELETIVO</td>\n",
              "    </tr>\n",
              "    <tr>\n",
              "      <th>4</th>\n",
              "      <td>2019</td>\n",
              "      <td>2.0</td>\n",
              "      <td>SiSU</td>\n",
              "    </tr>\n",
              "  </tbody>\n",
              "</table>\n",
              "</div>"
            ],
            "text/plain": [
              "   ano_ingresso  periodo_ingresso     forma_ingresso\n",
              "0          2019               1.0  PROCESSO SELETIVO\n",
              "1          2019               1.0               SiSU\n",
              "2          2019               1.0               SiSU\n",
              "3          2019               1.0  PROCESSO SELETIVO\n",
              "4          2019               2.0               SiSU"
            ]
          },
          "metadata": {
            "tags": []
          },
          "execution_count": 22
        }
      ]
    },
    {
      "cell_type": "markdown",
      "metadata": {
        "colab_type": "text",
        "id": "I0fb6cKPL-wL"
      },
      "source": [
        "### Searching for conditions\n",
        "\n",
        "Another way to filter by the columns’ values is through **conditions**.\n",
        "\n",
        "To that end, we use the method `query('condition')`, where `condition` is a logical expression from Python.\n",
        "\n",
        "For example, we will choose only the observations whose **forma_ingresso** has the value **REINGRESSO SEGUNDO CICLO**:"
      ]
    },
    {
      "cell_type": "code",
      "metadata": {
        "colab_type": "code",
        "id": "q0oc1e_PCDii",
        "outputId": "bc6462ed-a2d7-492c-8556-ab8826aa913d",
        "colab": {
          "base_uri": "https://localhost:8080/",
          "height": 898
        }
      },
      "source": [
        "data.query(\"forma_ingresso == 'REINGRESSO SEGUNDO CICLO'\")"
      ],
      "execution_count": 0,
      "outputs": [
        {
          "output_type": "execute_result",
          "data": {
            "text/html": [
              "<div>\n",
              "<style scoped>\n",
              "    .dataframe tbody tr th:only-of-type {\n",
              "        vertical-align: middle;\n",
              "    }\n",
              "\n",
              "    .dataframe tbody tr th {\n",
              "        vertical-align: top;\n",
              "    }\n",
              "\n",
              "    .dataframe thead th {\n",
              "        text-align: right;\n",
              "    }\n",
              "</style>\n",
              "<table border=\"1\" class=\"dataframe\">\n",
              "  <thead>\n",
              "    <tr style=\"text-align: right;\">\n",
              "      <th></th>\n",
              "      <th>matricula</th>\n",
              "      <th>nome_discente</th>\n",
              "      <th>sexo</th>\n",
              "      <th>ano_ingresso</th>\n",
              "      <th>periodo_ingresso</th>\n",
              "      <th>forma_ingresso</th>\n",
              "      <th>tipo_discente</th>\n",
              "      <th>status</th>\n",
              "      <th>sigla_nivel_ensino</th>\n",
              "      <th>nivel_ensino</th>\n",
              "      <th>id_curso</th>\n",
              "      <th>nome_curso</th>\n",
              "      <th>modalidade_educacao</th>\n",
              "      <th>id_unidade</th>\n",
              "      <th>nome_unidade</th>\n",
              "      <th>id_unidade_gestora</th>\n",
              "      <th>nome_unidade_gestora</th>\n",
              "    </tr>\n",
              "  </thead>\n",
              "  <tbody>\n",
              "    <tr>\n",
              "      <th>38</th>\n",
              "      <td>20190000518</td>\n",
              "      <td>ADELINO AFONSO FERNANDES AVELINO</td>\n",
              "      <td>M</td>\n",
              "      <td>2019</td>\n",
              "      <td>1.0</td>\n",
              "      <td>REINGRESSO SEGUNDO CICLO</td>\n",
              "      <td>REGULAR</td>\n",
              "      <td>ATIVO</td>\n",
              "      <td>G</td>\n",
              "      <td>GRADUAÇÃO</td>\n",
              "      <td>17848940.0</td>\n",
              "      <td>ENGENHARIA DE SOFTWARE</td>\n",
              "      <td>PRESENCIAL</td>\n",
              "      <td>439.0</td>\n",
              "      <td>CENTRO DE CIÊNCIAS EXATAS E DA TERRA</td>\n",
              "      <td>439.0</td>\n",
              "      <td>CENTRO DE CIÊNCIAS EXATAS E DA TERRA</td>\n",
              "    </tr>\n",
              "    <tr>\n",
              "      <th>144</th>\n",
              "      <td>20190000948</td>\n",
              "      <td>AFFONSO DE FARIA</td>\n",
              "      <td>M</td>\n",
              "      <td>2019</td>\n",
              "      <td>1.0</td>\n",
              "      <td>REINGRESSO SEGUNDO CICLO</td>\n",
              "      <td>REGULAR</td>\n",
              "      <td>ATIVO</td>\n",
              "      <td>G</td>\n",
              "      <td>GRADUAÇÃO</td>\n",
              "      <td>85341136.0</td>\n",
              "      <td>ENGENHARIA BIOMÉDICA</td>\n",
              "      <td>PRESENCIAL</td>\n",
              "      <td>445.0</td>\n",
              "      <td>CENTRO DE TECNOLOGIA</td>\n",
              "      <td>445.0</td>\n",
              "      <td>CENTRO DE TECNOLOGIA</td>\n",
              "    </tr>\n",
              "    <tr>\n",
              "      <th>162</th>\n",
              "      <td>20190152609</td>\n",
              "      <td>AILSON FORTE DOS SANTOS</td>\n",
              "      <td>M</td>\n",
              "      <td>2019</td>\n",
              "      <td>2.0</td>\n",
              "      <td>REINGRESSO SEGUNDO CICLO</td>\n",
              "      <td>REGULAR</td>\n",
              "      <td>ATIVO</td>\n",
              "      <td>G</td>\n",
              "      <td>GRADUAÇÃO</td>\n",
              "      <td>2000013.0</td>\n",
              "      <td>CIÊNCIA DA COMPUTAÇÃO</td>\n",
              "      <td>PRESENCIAL</td>\n",
              "      <td>439.0</td>\n",
              "      <td>CENTRO DE CIÊNCIAS EXATAS E DA TERRA</td>\n",
              "      <td>439.0</td>\n",
              "      <td>CENTRO DE CIÊNCIAS EXATAS E DA TERRA</td>\n",
              "    </tr>\n",
              "    <tr>\n",
              "      <th>173</th>\n",
              "      <td>20190001927</td>\n",
              "      <td>AISSA PALHARES CAVALCANTI</td>\n",
              "      <td>F</td>\n",
              "      <td>2019</td>\n",
              "      <td>1.0</td>\n",
              "      <td>REINGRESSO SEGUNDO CICLO</td>\n",
              "      <td>REGULAR</td>\n",
              "      <td>ATIVO</td>\n",
              "      <td>G</td>\n",
              "      <td>GRADUAÇÃO</td>\n",
              "      <td>2000031.0</td>\n",
              "      <td>ENGENHARIA MECÂNICA</td>\n",
              "      <td>PRESENCIAL</td>\n",
              "      <td>445.0</td>\n",
              "      <td>CENTRO DE TECNOLOGIA</td>\n",
              "      <td>445.0</td>\n",
              "      <td>CENTRO DE TECNOLOGIA</td>\n",
              "    </tr>\n",
              "    <tr>\n",
              "      <th>179</th>\n",
              "      <td>20190002610</td>\n",
              "      <td>ALAILSON FEITOSA</td>\n",
              "      <td>M</td>\n",
              "      <td>2019</td>\n",
              "      <td>1.0</td>\n",
              "      <td>REINGRESSO SEGUNDO CICLO</td>\n",
              "      <td>REGULAR</td>\n",
              "      <td>ATIVO</td>\n",
              "      <td>G</td>\n",
              "      <td>GRADUAÇÃO</td>\n",
              "      <td>85437055.0</td>\n",
              "      <td>ENGENHARIA MECATRÔNICA</td>\n",
              "      <td>PRESENCIAL</td>\n",
              "      <td>445.0</td>\n",
              "      <td>CENTRO DE TECNOLOGIA</td>\n",
              "      <td>445.0</td>\n",
              "      <td>CENTRO DE TECNOLOGIA</td>\n",
              "    </tr>\n",
              "    <tr>\n",
              "      <th>...</th>\n",
              "      <td>...</td>\n",
              "      <td>...</td>\n",
              "      <td>...</td>\n",
              "      <td>...</td>\n",
              "      <td>...</td>\n",
              "      <td>...</td>\n",
              "      <td>...</td>\n",
              "      <td>...</td>\n",
              "      <td>...</td>\n",
              "      <td>...</td>\n",
              "      <td>...</td>\n",
              "      <td>...</td>\n",
              "      <td>...</td>\n",
              "      <td>...</td>\n",
              "      <td>...</td>\n",
              "      <td>...</td>\n",
              "      <td>...</td>\n",
              "    </tr>\n",
              "    <tr>\n",
              "      <th>15935</th>\n",
              "      <td>20190153230</td>\n",
              "      <td>YGOR MATHEUS PEREIRA DE PAULA</td>\n",
              "      <td>M</td>\n",
              "      <td>2019</td>\n",
              "      <td>2.0</td>\n",
              "      <td>REINGRESSO SEGUNDO CICLO</td>\n",
              "      <td>REGULAR</td>\n",
              "      <td>ATIVO</td>\n",
              "      <td>G</td>\n",
              "      <td>GRADUAÇÃO</td>\n",
              "      <td>2000027.0</td>\n",
              "      <td>ENGENHARIA DE MATERIAIS</td>\n",
              "      <td>PRESENCIAL</td>\n",
              "      <td>445.0</td>\n",
              "      <td>CENTRO DE TECNOLOGIA</td>\n",
              "      <td>445.0</td>\n",
              "      <td>CENTRO DE TECNOLOGIA</td>\n",
              "    </tr>\n",
              "    <tr>\n",
              "      <th>15959</th>\n",
              "      <td>20190155914</td>\n",
              "      <td>YSLANE STEPHANIE MACÊDO DOS SANTOS</td>\n",
              "      <td>F</td>\n",
              "      <td>2019</td>\n",
              "      <td>2.0</td>\n",
              "      <td>REINGRESSO SEGUNDO CICLO</td>\n",
              "      <td>REGULAR</td>\n",
              "      <td>ATIVO</td>\n",
              "      <td>G</td>\n",
              "      <td>GRADUAÇÃO</td>\n",
              "      <td>85322571.0</td>\n",
              "      <td>ENGENHARIA AMBIENTAL</td>\n",
              "      <td>PRESENCIAL</td>\n",
              "      <td>445.0</td>\n",
              "      <td>CENTRO DE TECNOLOGIA</td>\n",
              "      <td>445.0</td>\n",
              "      <td>CENTRO DE TECNOLOGIA</td>\n",
              "    </tr>\n",
              "    <tr>\n",
              "      <th>15966</th>\n",
              "      <td>20190000643</td>\n",
              "      <td>YURI ALESSANDRO DANTAS TONHECA MARTINS</td>\n",
              "      <td>M</td>\n",
              "      <td>2019</td>\n",
              "      <td>1.0</td>\n",
              "      <td>REINGRESSO SEGUNDO CICLO</td>\n",
              "      <td>REGULAR</td>\n",
              "      <td>ATIVO</td>\n",
              "      <td>G</td>\n",
              "      <td>GRADUAÇÃO</td>\n",
              "      <td>17848940.0</td>\n",
              "      <td>ENGENHARIA DE SOFTWARE</td>\n",
              "      <td>PRESENCIAL</td>\n",
              "      <td>439.0</td>\n",
              "      <td>CENTRO DE CIÊNCIAS EXATAS E DA TERRA</td>\n",
              "      <td>439.0</td>\n",
              "      <td>CENTRO DE CIÊNCIAS EXATAS E DA TERRA</td>\n",
              "    </tr>\n",
              "    <tr>\n",
              "      <th>15989</th>\n",
              "      <td>20190000652</td>\n",
              "      <td>YURI REINALDO DA SILVA</td>\n",
              "      <td>M</td>\n",
              "      <td>2019</td>\n",
              "      <td>1.0</td>\n",
              "      <td>REINGRESSO SEGUNDO CICLO</td>\n",
              "      <td>REGULAR</td>\n",
              "      <td>ATIVO</td>\n",
              "      <td>G</td>\n",
              "      <td>GRADUAÇÃO</td>\n",
              "      <td>17848940.0</td>\n",
              "      <td>ENGENHARIA DE SOFTWARE</td>\n",
              "      <td>PRESENCIAL</td>\n",
              "      <td>439.0</td>\n",
              "      <td>CENTRO DE CIÊNCIAS EXATAS E DA TERRA</td>\n",
              "      <td>439.0</td>\n",
              "      <td>CENTRO DE CIÊNCIAS EXATAS E DA TERRA</td>\n",
              "    </tr>\n",
              "    <tr>\n",
              "      <th>16009</th>\n",
              "      <td>20190002530</td>\n",
              "      <td>ZEUS JUSTINO DE LIMA</td>\n",
              "      <td>M</td>\n",
              "      <td>2019</td>\n",
              "      <td>1.0</td>\n",
              "      <td>REINGRESSO SEGUNDO CICLO</td>\n",
              "      <td>REGULAR</td>\n",
              "      <td>ATIVO</td>\n",
              "      <td>G</td>\n",
              "      <td>GRADUAÇÃO</td>\n",
              "      <td>85341136.0</td>\n",
              "      <td>ENGENHARIA BIOMÉDICA</td>\n",
              "      <td>PRESENCIAL</td>\n",
              "      <td>445.0</td>\n",
              "      <td>CENTRO DE TECNOLOGIA</td>\n",
              "      <td>445.0</td>\n",
              "      <td>CENTRO DE TECNOLOGIA</td>\n",
              "    </tr>\n",
              "  </tbody>\n",
              "</table>\n",
              "<p>407 rows × 17 columns</p>\n",
              "</div>"
            ],
            "text/plain": [
              "         matricula  ...                  nome_unidade_gestora\n",
              "38     20190000518  ...  CENTRO DE CIÊNCIAS EXATAS E DA TERRA\n",
              "144    20190000948  ...                  CENTRO DE TECNOLOGIA\n",
              "162    20190152609  ...  CENTRO DE CIÊNCIAS EXATAS E DA TERRA\n",
              "173    20190001927  ...                  CENTRO DE TECNOLOGIA\n",
              "179    20190002610  ...                  CENTRO DE TECNOLOGIA\n",
              "...            ...  ...                                   ...\n",
              "15935  20190153230  ...                  CENTRO DE TECNOLOGIA\n",
              "15959  20190155914  ...                  CENTRO DE TECNOLOGIA\n",
              "15966  20190000643  ...  CENTRO DE CIÊNCIAS EXATAS E DA TERRA\n",
              "15989  20190000652  ...  CENTRO DE CIÊNCIAS EXATAS E DA TERRA\n",
              "16009  20190002530  ...                  CENTRO DE TECNOLOGIA\n",
              "\n",
              "[407 rows x 17 columns]"
            ]
          },
          "metadata": {
            "tags": []
          },
          "execution_count": 23
        }
      ]
    },
    {
      "cell_type": "markdown",
      "metadata": {
        "colab_type": "text",
        "id": "OY0VDG5_jiQv"
      },
      "source": [
        "Let’s discuss the example above:\n",
        "* `forma_ingresso` is a `Series` (column) from the `DataFrame` that we call `data` \n",
        "* We compare each value in this series with the value `'REINGRESSO SEGUNDO CICLO'` using the equality operator `==`\n",
        "```python\n",
        "data.query(\"forma_ingresso == 'REINGRESSO SEGUNDO CICLO'\")\n",
        "```\n",
        "We choose only the observations that satisfy that condition \n",
        "\n",
        "Note that we can also use names to reference the returned `DataFrame`:"
      ]
    },
    {
      "cell_type": "code",
      "metadata": {
        "colab_type": "code",
        "id": "0mwwuJ7Xkd2g",
        "colab": {}
      },
      "source": [
        "data_segundo_ciclo = data.query(\"forma_ingresso == 'REINGRESSO SEGUNDO CICLO'\")\n",
        "data_segundo_ciclo.head()"
      ],
      "execution_count": 0,
      "outputs": []
    },
    {
      "cell_type": "markdown",
      "metadata": {
        "colab_type": "text",
        "id": "l5S3EdmLp1F8"
      },
      "source": [
        "#### Conditions and comparison operators\n",
        "\n",
        "In the example above, we use the equality operator.\n",
        "\n",
        "Note that it’s different to use `==` (comparison of equality) and `=` (association of a name to an object).\n",
        "\n",
        "Python offers more comparison operators:\n",
        "\n",
        "| Symbol | Meaning |\n",
        "|:----:|---|\n",
        "| == | Equal to |\n",
        "| !=  | Not equal |\n",
        "| < | Less than |\n",
        "| > | Greater than |\n",
        "| <=  | Less than or equal to |\n",
        "| >=  | Greater than or equal to |\n",
        "\n",
        "It is also important to observe that the operators less than/greater than (or equal to) usually are applied to numeric data.\n",
        "\n",
        "For non-numeric data, we can use the operator `in`.\n",
        "\n",
        "Let’s take a look at the existing values for the feature `\"status\"` using the method `unique()`:"
      ]
    },
    {
      "cell_type": "code",
      "metadata": {
        "colab_type": "code",
        "id": "EA9ORMrg1yS2",
        "outputId": "358b761f-4dda-42e3-c6fc-fa85824f12cb",
        "colab": {
          "base_uri": "https://localhost:8080/",
          "height": 51
        }
      },
      "source": [
        "data['status'].unique()"
      ],
      "execution_count": 0,
      "outputs": [
        {
          "output_type": "execute_result",
          "data": {
            "text/plain": [
              "array(['CANCELADO', 'ATIVO', 'TRANCADO', 'CONCLUÍDO', 'CADASTRADO',\n",
              "       'ATIVO - FORMANDO', 'DEFENDIDO', 'FORMADO'], dtype=object)"
            ]
          },
          "metadata": {
            "tags": []
          },
          "execution_count": 24
        }
      ]
    },
    {
      "cell_type": "markdown",
      "metadata": {
        "colab_type": "text",
        "id": "6Y7Z7ngK12aq"
      },
      "source": [
        "Once again, we have a verbose result, but what interests us is a list of values:\n",
        "\n",
        "```python3\n",
        "['ATIVO', 'CANCELADO', 'CADASTRADO', 'TRANCADO', 'ATIVO - FORMANDO',\n",
        "       'CONCLUÍDO', 'DEFENDIDO']\n",
        "````"
      ]
    },
    {
      "cell_type": "markdown",
      "metadata": {
        "colab_type": "text",
        "id": "TQdwp3y32AaC"
      },
      "source": [
        "Let’s choose only the observations whose status is \"CANCELADO\" or \"TRANCADO\":"
      ]
    },
    {
      "cell_type": "code",
      "metadata": {
        "colab_type": "code",
        "id": "qh-TQoNbsXNC",
        "outputId": "4f3542d4-9cac-4b3b-de29-afbce90bacfe",
        "colab": {
          "base_uri": "https://localhost:8080/",
          "height": 496
        }
      },
      "source": [
        "status_desejados = [\"CANCELADO\", \"TRANCADO\"]\n",
        "data_cancelado_trancado = data.query(f\"status in {status_desejados}\")\n",
        "data_cancelado_trancado.tail()"
      ],
      "execution_count": 0,
      "outputs": [
        {
          "output_type": "execute_result",
          "data": {
            "text/html": [
              "<div>\n",
              "<style scoped>\n",
              "    .dataframe tbody tr th:only-of-type {\n",
              "        vertical-align: middle;\n",
              "    }\n",
              "\n",
              "    .dataframe tbody tr th {\n",
              "        vertical-align: top;\n",
              "    }\n",
              "\n",
              "    .dataframe thead th {\n",
              "        text-align: right;\n",
              "    }\n",
              "</style>\n",
              "<table border=\"1\" class=\"dataframe\">\n",
              "  <thead>\n",
              "    <tr style=\"text-align: right;\">\n",
              "      <th></th>\n",
              "      <th>matricula</th>\n",
              "      <th>nome_discente</th>\n",
              "      <th>sexo</th>\n",
              "      <th>ano_ingresso</th>\n",
              "      <th>periodo_ingresso</th>\n",
              "      <th>forma_ingresso</th>\n",
              "      <th>tipo_discente</th>\n",
              "      <th>status</th>\n",
              "      <th>sigla_nivel_ensino</th>\n",
              "      <th>nivel_ensino</th>\n",
              "      <th>id_curso</th>\n",
              "      <th>nome_curso</th>\n",
              "      <th>modalidade_educacao</th>\n",
              "      <th>id_unidade</th>\n",
              "      <th>nome_unidade</th>\n",
              "      <th>id_unidade_gestora</th>\n",
              "      <th>nome_unidade_gestora</th>\n",
              "    </tr>\n",
              "  </thead>\n",
              "  <tbody>\n",
              "    <tr>\n",
              "      <th>15975</th>\n",
              "      <td>20190066171</td>\n",
              "      <td>YURI ENILSON RABELO DE ARAUJO</td>\n",
              "      <td>M</td>\n",
              "      <td>2019</td>\n",
              "      <td>1.0</td>\n",
              "      <td>SiSU</td>\n",
              "      <td>REGULAR</td>\n",
              "      <td>CANCELADO</td>\n",
              "      <td>G</td>\n",
              "      <td>GRADUAÇÃO</td>\n",
              "      <td>111635047.0</td>\n",
              "      <td>FILOSOFIA</td>\n",
              "      <td>PRESENCIAL</td>\n",
              "      <td>442.0</td>\n",
              "      <td>CENTRO DE CIÊNCIAS HUMANAS, LETRAS E ARTES</td>\n",
              "      <td>442.0</td>\n",
              "      <td>CENTRO DE CIÊNCIAS HUMANAS, LETRAS E ARTES</td>\n",
              "    </tr>\n",
              "    <tr>\n",
              "      <th>15978</th>\n",
              "      <td>20190100460</td>\n",
              "      <td>YURI GUEDES DOS SANTOS</td>\n",
              "      <td>M</td>\n",
              "      <td>2019</td>\n",
              "      <td>1.0</td>\n",
              "      <td>SiSU</td>\n",
              "      <td>REGULAR</td>\n",
              "      <td>CANCELADO</td>\n",
              "      <td>G</td>\n",
              "      <td>GRADUAÇÃO</td>\n",
              "      <td>118834827.0</td>\n",
              "      <td>COMUNICAÇÃO SOCIAL- PUBLICIDADE E PROPAGANDA</td>\n",
              "      <td>PRESENCIAL</td>\n",
              "      <td>442.0</td>\n",
              "      <td>CENTRO DE CIÊNCIAS HUMANAS, LETRAS E ARTES</td>\n",
              "      <td>442.0</td>\n",
              "      <td>CENTRO DE CIÊNCIAS HUMANAS, LETRAS E ARTES</td>\n",
              "    </tr>\n",
              "    <tr>\n",
              "      <th>15984</th>\n",
              "      <td>20195004162</td>\n",
              "      <td>YURI PEDRO DOS SANTOS</td>\n",
              "      <td>M</td>\n",
              "      <td>2019</td>\n",
              "      <td>1.0</td>\n",
              "      <td>PROCESSO SELETIVO</td>\n",
              "      <td>REGULAR</td>\n",
              "      <td>CANCELADO</td>\n",
              "      <td>F</td>\n",
              "      <td>FORMAÇÃO COMPLEMENTAR</td>\n",
              "      <td>86980317.0</td>\n",
              "      <td>CURSO DE LÍNGUA ESPANHOLA - BÁSICO</td>\n",
              "      <td>PRESENCIAL</td>\n",
              "      <td>6042.0</td>\n",
              "      <td>INSTITUTO ÁGORA - LÍNGUAS, LITERATURAS E CULTU...</td>\n",
              "      <td>442.0</td>\n",
              "      <td>CENTRO DE CIÊNCIAS HUMANAS, LETRAS E ARTES</td>\n",
              "    </tr>\n",
              "    <tr>\n",
              "      <th>16000</th>\n",
              "      <td>20191010009</td>\n",
              "      <td>ZALMAN DANTAS DA CRUZ</td>\n",
              "      <td>M</td>\n",
              "      <td>2019</td>\n",
              "      <td>1.0</td>\n",
              "      <td>ALUNO ESPECIAL POS-GRADUACAO</td>\n",
              "      <td>ESPECIAL</td>\n",
              "      <td>CANCELADO</td>\n",
              "      <td>E</td>\n",
              "      <td>MESTRADO</td>\n",
              "      <td>NaN</td>\n",
              "      <td>NaN</td>\n",
              "      <td>NaN</td>\n",
              "      <td>NaN</td>\n",
              "      <td>NaN</td>\n",
              "      <td>NaN</td>\n",
              "      <td>NaN</td>\n",
              "    </tr>\n",
              "    <tr>\n",
              "      <th>16007</th>\n",
              "      <td>20191011310</td>\n",
              "      <td>ZENILEIDE REJANE DE AZEVEDO</td>\n",
              "      <td>M</td>\n",
              "      <td>2019</td>\n",
              "      <td>1.0</td>\n",
              "      <td>ALUNO ESPECIAL POS-GRADUACAO</td>\n",
              "      <td>ESPECIAL</td>\n",
              "      <td>CANCELADO</td>\n",
              "      <td>E</td>\n",
              "      <td>MESTRADO</td>\n",
              "      <td>NaN</td>\n",
              "      <td>NaN</td>\n",
              "      <td>NaN</td>\n",
              "      <td>NaN</td>\n",
              "      <td>NaN</td>\n",
              "      <td>NaN</td>\n",
              "      <td>NaN</td>\n",
              "    </tr>\n",
              "  </tbody>\n",
              "</table>\n",
              "</div>"
            ],
            "text/plain": [
              "         matricula  ...                        nome_unidade_gestora\n",
              "15975  20190066171  ...  CENTRO DE CIÊNCIAS HUMANAS, LETRAS E ARTES\n",
              "15978  20190100460  ...  CENTRO DE CIÊNCIAS HUMANAS, LETRAS E ARTES\n",
              "15984  20195004162  ...  CENTRO DE CIÊNCIAS HUMANAS, LETRAS E ARTES\n",
              "16000  20191010009  ...                                         NaN\n",
              "16007  20191011310  ...                                         NaN\n",
              "\n",
              "[5 rows x 17 columns]"
            ]
          },
          "metadata": {
            "tags": []
          },
          "execution_count": 25
        }
      ]
    },
    {
      "cell_type": "markdown",
      "metadata": {
        "id": "mMabVSaXE0Rp",
        "colab_type": "text"
      },
      "source": [
        "Let’s discuss the example above:\n",
        "* `status_desejados` is a list with the status that we wish to filter \n",
        "* We filter the dataframe `data` indicating that we want only the observations whose status is specified on the list `status_desejados`\n",
        "```python\n",
        "data.query(f\"status in {status_desejados}\")\n",
        "```\n",
        "Note that we use a Python resource called `f-strings`, that allows to convert in text objects specified between curly braces (an `f-string` always starts with an `f` before quotation marks)."
      ]
    },
    {
      "cell_type": "markdown",
      "metadata": {
        "colab_type": "text",
        "id": "FLLC_2stfihh"
      },
      "source": [
        "#### Conditions and Logical Operators\n",
        "We can also use more complex conditions, using **logical operators**.\n",
        "\n",
        "We are going to restrict the query above a little more so that, in addition to **forma_ingresso** having value **REINGRESSO SEGUNDO CICLO**, **course_name** has value **ENGENHARIA DE SOFTWARE**:"
      ]
    },
    {
      "cell_type": "code",
      "metadata": {
        "colab_type": "code",
        "id": "y25iRIQnldzG",
        "outputId": "0a641636-799b-4d07-c880-d7ff54094d70",
        "colab": {
          "base_uri": "https://localhost:8080/",
          "height": 479
        }
      },
      "source": [
        "condição_segundo_ciclo = \"forma_ingresso == 'REINGRESSO SEGUNDO CICLO'\"\n",
        "condição_engenharia_software = \"nome_curso == 'ENGENHARIA DE SOFTWARE'\"\n",
        "data_2ciclo_engsoft = data.query(f\"{condição_segundo_ciclo} and {condição_engenharia_software}\")\n",
        "data_2ciclo_engsoft.head()"
      ],
      "execution_count": 0,
      "outputs": [
        {
          "output_type": "execute_result",
          "data": {
            "text/html": [
              "<div>\n",
              "<style scoped>\n",
              "    .dataframe tbody tr th:only-of-type {\n",
              "        vertical-align: middle;\n",
              "    }\n",
              "\n",
              "    .dataframe tbody tr th {\n",
              "        vertical-align: top;\n",
              "    }\n",
              "\n",
              "    .dataframe thead th {\n",
              "        text-align: right;\n",
              "    }\n",
              "</style>\n",
              "<table border=\"1\" class=\"dataframe\">\n",
              "  <thead>\n",
              "    <tr style=\"text-align: right;\">\n",
              "      <th></th>\n",
              "      <th>matricula</th>\n",
              "      <th>nome_discente</th>\n",
              "      <th>sexo</th>\n",
              "      <th>ano_ingresso</th>\n",
              "      <th>periodo_ingresso</th>\n",
              "      <th>forma_ingresso</th>\n",
              "      <th>tipo_discente</th>\n",
              "      <th>status</th>\n",
              "      <th>sigla_nivel_ensino</th>\n",
              "      <th>nivel_ensino</th>\n",
              "      <th>id_curso</th>\n",
              "      <th>nome_curso</th>\n",
              "      <th>modalidade_educacao</th>\n",
              "      <th>id_unidade</th>\n",
              "      <th>nome_unidade</th>\n",
              "      <th>id_unidade_gestora</th>\n",
              "      <th>nome_unidade_gestora</th>\n",
              "    </tr>\n",
              "  </thead>\n",
              "  <tbody>\n",
              "    <tr>\n",
              "      <th>38</th>\n",
              "      <td>20190000518</td>\n",
              "      <td>ADELINO AFONSO FERNANDES AVELINO</td>\n",
              "      <td>M</td>\n",
              "      <td>2019</td>\n",
              "      <td>1.0</td>\n",
              "      <td>REINGRESSO SEGUNDO CICLO</td>\n",
              "      <td>REGULAR</td>\n",
              "      <td>ATIVO</td>\n",
              "      <td>G</td>\n",
              "      <td>GRADUAÇÃO</td>\n",
              "      <td>17848940.0</td>\n",
              "      <td>ENGENHARIA DE SOFTWARE</td>\n",
              "      <td>PRESENCIAL</td>\n",
              "      <td>439.0</td>\n",
              "      <td>CENTRO DE CIÊNCIAS EXATAS E DA TERRA</td>\n",
              "      <td>439.0</td>\n",
              "      <td>CENTRO DE CIÊNCIAS EXATAS E DA TERRA</td>\n",
              "    </tr>\n",
              "    <tr>\n",
              "      <th>569</th>\n",
              "      <td>20190152672</td>\n",
              "      <td>ALLAN VALDEVINO GONÇALVES</td>\n",
              "      <td>M</td>\n",
              "      <td>2019</td>\n",
              "      <td>2.0</td>\n",
              "      <td>REINGRESSO SEGUNDO CICLO</td>\n",
              "      <td>REGULAR</td>\n",
              "      <td>ATIVO</td>\n",
              "      <td>G</td>\n",
              "      <td>GRADUAÇÃO</td>\n",
              "      <td>17848940.0</td>\n",
              "      <td>ENGENHARIA DE SOFTWARE</td>\n",
              "      <td>PRESENCIAL</td>\n",
              "      <td>439.0</td>\n",
              "      <td>CENTRO DE CIÊNCIAS EXATAS E DA TERRA</td>\n",
              "      <td>439.0</td>\n",
              "      <td>CENTRO DE CIÊNCIAS EXATAS E DA TERRA</td>\n",
              "    </tr>\n",
              "    <tr>\n",
              "      <th>714</th>\n",
              "      <td>20190152681</td>\n",
              "      <td>AMANDA PRISCILLA ARAÚJO DA SILVA</td>\n",
              "      <td>F</td>\n",
              "      <td>2019</td>\n",
              "      <td>2.0</td>\n",
              "      <td>REINGRESSO SEGUNDO CICLO</td>\n",
              "      <td>REGULAR</td>\n",
              "      <td>ATIVO</td>\n",
              "      <td>G</td>\n",
              "      <td>GRADUAÇÃO</td>\n",
              "      <td>17848940.0</td>\n",
              "      <td>ENGENHARIA DE SOFTWARE</td>\n",
              "      <td>PRESENCIAL</td>\n",
              "      <td>439.0</td>\n",
              "      <td>CENTRO DE CIÊNCIAS EXATAS E DA TERRA</td>\n",
              "      <td>439.0</td>\n",
              "      <td>CENTRO DE CIÊNCIAS EXATAS E DA TERRA</td>\n",
              "    </tr>\n",
              "    <tr>\n",
              "      <th>986</th>\n",
              "      <td>20190152690</td>\n",
              "      <td>ANALLA NAYANE DE FARIAS CUNHA</td>\n",
              "      <td>F</td>\n",
              "      <td>2019</td>\n",
              "      <td>2.0</td>\n",
              "      <td>REINGRESSO SEGUNDO CICLO</td>\n",
              "      <td>REGULAR</td>\n",
              "      <td>ATIVO</td>\n",
              "      <td>G</td>\n",
              "      <td>GRADUAÇÃO</td>\n",
              "      <td>17848940.0</td>\n",
              "      <td>ENGENHARIA DE SOFTWARE</td>\n",
              "      <td>PRESENCIAL</td>\n",
              "      <td>439.0</td>\n",
              "      <td>CENTRO DE CIÊNCIAS EXATAS E DA TERRA</td>\n",
              "      <td>439.0</td>\n",
              "      <td>CENTRO DE CIÊNCIAS EXATAS E DA TERRA</td>\n",
              "    </tr>\n",
              "    <tr>\n",
              "      <th>1280</th>\n",
              "      <td>20190000527</td>\n",
              "      <td>ANDRÉ LUIZ DE LUCENA MOREIRA</td>\n",
              "      <td>M</td>\n",
              "      <td>2019</td>\n",
              "      <td>1.0</td>\n",
              "      <td>REINGRESSO SEGUNDO CICLO</td>\n",
              "      <td>REGULAR</td>\n",
              "      <td>CANCELADO</td>\n",
              "      <td>G</td>\n",
              "      <td>GRADUAÇÃO</td>\n",
              "      <td>17848940.0</td>\n",
              "      <td>ENGENHARIA DE SOFTWARE</td>\n",
              "      <td>PRESENCIAL</td>\n",
              "      <td>439.0</td>\n",
              "      <td>CENTRO DE CIÊNCIAS EXATAS E DA TERRA</td>\n",
              "      <td>439.0</td>\n",
              "      <td>CENTRO DE CIÊNCIAS EXATAS E DA TERRA</td>\n",
              "    </tr>\n",
              "  </tbody>\n",
              "</table>\n",
              "</div>"
            ],
            "text/plain": [
              "        matricula  ...                  nome_unidade_gestora\n",
              "38    20190000518  ...  CENTRO DE CIÊNCIAS EXATAS E DA TERRA\n",
              "569   20190152672  ...  CENTRO DE CIÊNCIAS EXATAS E DA TERRA\n",
              "714   20190152681  ...  CENTRO DE CIÊNCIAS EXATAS E DA TERRA\n",
              "986   20190152690  ...  CENTRO DE CIÊNCIAS EXATAS E DA TERRA\n",
              "1280  20190000527  ...  CENTRO DE CIÊNCIAS EXATAS E DA TERRA\n",
              "\n",
              "[5 rows x 17 columns]"
            ]
          },
          "metadata": {
            "tags": []
          },
          "execution_count": 26
        }
      ]
    },
    {
      "cell_type": "markdown",
      "metadata": {
        "colab_type": "text",
        "id": "6gBoCgGdl33r"
      },
      "source": [
        "\n",
        "\n",
        "```\n",
        "# This is formatted as code\n",
        "```\n",
        "\n",
        "Reviewing the code above:\n",
        "```python\n",
        "condição_segundo_ciclo = \"forma_ingresso == 'REINGRESSO SEGUNDO CICLO'\"\n",
        "````\n",
        "Condition to choose only new entrants through second cycle re-entry\n",
        "```python\n",
        "condição_engenharia_software = \"nome_curso == 'ENGENHARIA DE SOFTWARE'\"\n",
        "```\n",
        "Condition to choose only those entering the software engineering course\n",
        "```python\n",
        "data_2ciclo_engsoft = data.query(f\"{condição_segundo_ciclo} and {condição_engenharia_software}\")\n",
        "```\n",
        "Combining the two conditions through the `and` operator."
      ]
    },
    {
      "cell_type": "markdown",
      "metadata": {
        "colab_type": "text",
        "id": "_-dAt2lgodAi"
      },
      "source": [
        "#### Other logical operators\n",
        "\n",
        "In addition to the `and` operator, Pandas also provides the` or` operator.\n",
        "\n",
        "While the `and` operator chooses the line only if both conditions are true, for the `or` operator it is sufficient that one of the conditions is satisfied.\n",
        "\n",
        "Following this definition, what does the example below do?"
      ]
    },
    {
      "cell_type": "code",
      "metadata": {
        "colab_type": "code",
        "id": "C8yVonNefiqB",
        "outputId": "3daf8655-7105-4e48-e658-1e2857b40835",
        "colab": {
          "base_uri": "https://localhost:8080/",
          "height": 479
        }
      },
      "source": [
        "condição_segundo_ciclo = \"forma_ingresso == 'REINGRESSO SEGUNDO CICLO'\"\n",
        "condição_engenharia_software = \"nome_curso == 'ENGENHARIA DE SOFTWARE'\"\n",
        "condição_ciência_computação = \"nome_curso == 'CIÊNCIA DA COMPUTAÇÃO'\"\n",
        "condição_dimap = f\"{condição_ciência_computação} or {condição_engenharia_software}\"\n",
        "data_2ciclo_dimap = data.query(f\"{condição_segundo_ciclo} and {condição_dimap}\")\n",
        "data_2ciclo_dimap.head()"
      ],
      "execution_count": 0,
      "outputs": [
        {
          "output_type": "execute_result",
          "data": {
            "text/html": [
              "<div>\n",
              "<style scoped>\n",
              "    .dataframe tbody tr th:only-of-type {\n",
              "        vertical-align: middle;\n",
              "    }\n",
              "\n",
              "    .dataframe tbody tr th {\n",
              "        vertical-align: top;\n",
              "    }\n",
              "\n",
              "    .dataframe thead th {\n",
              "        text-align: right;\n",
              "    }\n",
              "</style>\n",
              "<table border=\"1\" class=\"dataframe\">\n",
              "  <thead>\n",
              "    <tr style=\"text-align: right;\">\n",
              "      <th></th>\n",
              "      <th>matricula</th>\n",
              "      <th>nome_discente</th>\n",
              "      <th>sexo</th>\n",
              "      <th>ano_ingresso</th>\n",
              "      <th>periodo_ingresso</th>\n",
              "      <th>forma_ingresso</th>\n",
              "      <th>tipo_discente</th>\n",
              "      <th>status</th>\n",
              "      <th>sigla_nivel_ensino</th>\n",
              "      <th>nivel_ensino</th>\n",
              "      <th>id_curso</th>\n",
              "      <th>nome_curso</th>\n",
              "      <th>modalidade_educacao</th>\n",
              "      <th>id_unidade</th>\n",
              "      <th>nome_unidade</th>\n",
              "      <th>id_unidade_gestora</th>\n",
              "      <th>nome_unidade_gestora</th>\n",
              "    </tr>\n",
              "  </thead>\n",
              "  <tbody>\n",
              "    <tr>\n",
              "      <th>38</th>\n",
              "      <td>20190000518</td>\n",
              "      <td>ADELINO AFONSO FERNANDES AVELINO</td>\n",
              "      <td>M</td>\n",
              "      <td>2019</td>\n",
              "      <td>1.0</td>\n",
              "      <td>REINGRESSO SEGUNDO CICLO</td>\n",
              "      <td>REGULAR</td>\n",
              "      <td>ATIVO</td>\n",
              "      <td>G</td>\n",
              "      <td>GRADUAÇÃO</td>\n",
              "      <td>17848940.0</td>\n",
              "      <td>ENGENHARIA DE SOFTWARE</td>\n",
              "      <td>PRESENCIAL</td>\n",
              "      <td>439.0</td>\n",
              "      <td>CENTRO DE CIÊNCIAS EXATAS E DA TERRA</td>\n",
              "      <td>439.0</td>\n",
              "      <td>CENTRO DE CIÊNCIAS EXATAS E DA TERRA</td>\n",
              "    </tr>\n",
              "    <tr>\n",
              "      <th>162</th>\n",
              "      <td>20190152609</td>\n",
              "      <td>AILSON FORTE DOS SANTOS</td>\n",
              "      <td>M</td>\n",
              "      <td>2019</td>\n",
              "      <td>2.0</td>\n",
              "      <td>REINGRESSO SEGUNDO CICLO</td>\n",
              "      <td>REGULAR</td>\n",
              "      <td>ATIVO</td>\n",
              "      <td>G</td>\n",
              "      <td>GRADUAÇÃO</td>\n",
              "      <td>2000013.0</td>\n",
              "      <td>CIÊNCIA DA COMPUTAÇÃO</td>\n",
              "      <td>PRESENCIAL</td>\n",
              "      <td>439.0</td>\n",
              "      <td>CENTRO DE CIÊNCIAS EXATAS E DA TERRA</td>\n",
              "      <td>439.0</td>\n",
              "      <td>CENTRO DE CIÊNCIAS EXATAS E DA TERRA</td>\n",
              "    </tr>\n",
              "    <tr>\n",
              "      <th>569</th>\n",
              "      <td>20190152672</td>\n",
              "      <td>ALLAN VALDEVINO GONÇALVES</td>\n",
              "      <td>M</td>\n",
              "      <td>2019</td>\n",
              "      <td>2.0</td>\n",
              "      <td>REINGRESSO SEGUNDO CICLO</td>\n",
              "      <td>REGULAR</td>\n",
              "      <td>ATIVO</td>\n",
              "      <td>G</td>\n",
              "      <td>GRADUAÇÃO</td>\n",
              "      <td>17848940.0</td>\n",
              "      <td>ENGENHARIA DE SOFTWARE</td>\n",
              "      <td>PRESENCIAL</td>\n",
              "      <td>439.0</td>\n",
              "      <td>CENTRO DE CIÊNCIAS EXATAS E DA TERRA</td>\n",
              "      <td>439.0</td>\n",
              "      <td>CENTRO DE CIÊNCIAS EXATAS E DA TERRA</td>\n",
              "    </tr>\n",
              "    <tr>\n",
              "      <th>714</th>\n",
              "      <td>20190152681</td>\n",
              "      <td>AMANDA PRISCILLA ARAÚJO DA SILVA</td>\n",
              "      <td>F</td>\n",
              "      <td>2019</td>\n",
              "      <td>2.0</td>\n",
              "      <td>REINGRESSO SEGUNDO CICLO</td>\n",
              "      <td>REGULAR</td>\n",
              "      <td>ATIVO</td>\n",
              "      <td>G</td>\n",
              "      <td>GRADUAÇÃO</td>\n",
              "      <td>17848940.0</td>\n",
              "      <td>ENGENHARIA DE SOFTWARE</td>\n",
              "      <td>PRESENCIAL</td>\n",
              "      <td>439.0</td>\n",
              "      <td>CENTRO DE CIÊNCIAS EXATAS E DA TERRA</td>\n",
              "      <td>439.0</td>\n",
              "      <td>CENTRO DE CIÊNCIAS EXATAS E DA TERRA</td>\n",
              "    </tr>\n",
              "    <tr>\n",
              "      <th>986</th>\n",
              "      <td>20190152690</td>\n",
              "      <td>ANALLA NAYANE DE FARIAS CUNHA</td>\n",
              "      <td>F</td>\n",
              "      <td>2019</td>\n",
              "      <td>2.0</td>\n",
              "      <td>REINGRESSO SEGUNDO CICLO</td>\n",
              "      <td>REGULAR</td>\n",
              "      <td>ATIVO</td>\n",
              "      <td>G</td>\n",
              "      <td>GRADUAÇÃO</td>\n",
              "      <td>17848940.0</td>\n",
              "      <td>ENGENHARIA DE SOFTWARE</td>\n",
              "      <td>PRESENCIAL</td>\n",
              "      <td>439.0</td>\n",
              "      <td>CENTRO DE CIÊNCIAS EXATAS E DA TERRA</td>\n",
              "      <td>439.0</td>\n",
              "      <td>CENTRO DE CIÊNCIAS EXATAS E DA TERRA</td>\n",
              "    </tr>\n",
              "  </tbody>\n",
              "</table>\n",
              "</div>"
            ],
            "text/plain": [
              "       matricula  ...                  nome_unidade_gestora\n",
              "38   20190000518  ...  CENTRO DE CIÊNCIAS EXATAS E DA TERRA\n",
              "162  20190152609  ...  CENTRO DE CIÊNCIAS EXATAS E DA TERRA\n",
              "569  20190152672  ...  CENTRO DE CIÊNCIAS EXATAS E DA TERRA\n",
              "714  20190152681  ...  CENTRO DE CIÊNCIAS EXATAS E DA TERRA\n",
              "986  20190152690  ...  CENTRO DE CIÊNCIAS EXATAS E DA TERRA\n",
              "\n",
              "[5 rows x 17 columns]"
            ]
          },
          "metadata": {
            "tags": []
          },
          "execution_count": 30
        }
      ]
    },
    {
      "cell_type": "markdown",
      "metadata": {
        "colab_type": "text",
        "id": "lYIp5ZOcomNe"
      },
      "source": [
        "Reviewing the code above:\n",
        " ```python\n",
        "condição_segundo_ciclo = \"forma_ingresso == 'REINGRESSO SEGUNDO CICLO'\"\n",
        "````\n",
        "Condition to choose only new entrants through second cycle re-entry\n",
        "```python\n",
        "condição_engenharia_software = \"nome_curso == 'ENGENHARIA DE SOFTWARE'\"\n",
        "```\n",
        "Condition to choose only those entering the software engineering course\n",
        "```python\n",
        "condição_ciência_computação = \"nome_curso == 'CIÊNCIA DA COMPUTAÇÃO'\"\n",
        "```\n",
        "Condition to choose only those entering the computer science course\n",
        "```python\n",
        "condição_dimap = f\"{condição_ciência_computação} or {condição_engenharia_software}\"\n",
        "```\n",
        "Combining the two conditions using the `or` operator\n",
        "```python\n",
        "data_2ciclo_dimap = data.query(f\"{condição_segundo_ciclo} and {condição_dimap}\")\n",
        "```\n",
        "Combining the two conditions using the `and` operator\n",
        "\n",
        "Note that we used the `or` operator when we could have used the` in` operator, which is more readable.\n",
        "\n",
        "In general, we adopt the `or` operator when conditions involve different characteristics, instead of different values for the same characteristic.\n",
        "\n",
        "Finally, the operator `not` is used to invert a condition:"
      ]
    },
    {
      "cell_type": "code",
      "metadata": {
        "colab_type": "code",
        "id": "VM2AENbdpel7",
        "outputId": "289dcf32-5ec2-4c28-ad05-77bae811a301",
        "colab": {
          "base_uri": "https://localhost:8080/",
          "height": 513
        }
      },
      "source": [
        "data_ingresso_direto = data.query(f\"not {condição_segundo_ciclo}\")\n",
        "data_ingresso_direto.head()"
      ],
      "execution_count": 0,
      "outputs": [
        {
          "output_type": "execute_result",
          "data": {
            "text/html": [
              "<div>\n",
              "<style scoped>\n",
              "    .dataframe tbody tr th:only-of-type {\n",
              "        vertical-align: middle;\n",
              "    }\n",
              "\n",
              "    .dataframe tbody tr th {\n",
              "        vertical-align: top;\n",
              "    }\n",
              "\n",
              "    .dataframe thead th {\n",
              "        text-align: right;\n",
              "    }\n",
              "</style>\n",
              "<table border=\"1\" class=\"dataframe\">\n",
              "  <thead>\n",
              "    <tr style=\"text-align: right;\">\n",
              "      <th></th>\n",
              "      <th>matricula</th>\n",
              "      <th>nome_discente</th>\n",
              "      <th>sexo</th>\n",
              "      <th>ano_ingresso</th>\n",
              "      <th>periodo_ingresso</th>\n",
              "      <th>forma_ingresso</th>\n",
              "      <th>tipo_discente</th>\n",
              "      <th>status</th>\n",
              "      <th>sigla_nivel_ensino</th>\n",
              "      <th>nivel_ensino</th>\n",
              "      <th>id_curso</th>\n",
              "      <th>nome_curso</th>\n",
              "      <th>modalidade_educacao</th>\n",
              "      <th>id_unidade</th>\n",
              "      <th>nome_unidade</th>\n",
              "      <th>id_unidade_gestora</th>\n",
              "      <th>nome_unidade_gestora</th>\n",
              "    </tr>\n",
              "  </thead>\n",
              "  <tbody>\n",
              "    <tr>\n",
              "      <th>0</th>\n",
              "      <td>20193012209</td>\n",
              "      <td>ABDENOR BEZERRA DOS SANTOS</td>\n",
              "      <td>M</td>\n",
              "      <td>2019</td>\n",
              "      <td>1.0</td>\n",
              "      <td>PROCESSO SELETIVO</td>\n",
              "      <td>REGULAR</td>\n",
              "      <td>CANCELADO</td>\n",
              "      <td>T</td>\n",
              "      <td>TÉCNICO</td>\n",
              "      <td>96054058.0</td>\n",
              "      <td>CURSO TÉCNICO DA METRÓPOLE DIGITAL</td>\n",
              "      <td>SEMI-PRESENCIAL</td>\n",
              "      <td>6069.0</td>\n",
              "      <td>INSTITUTO METROPOLE DIGITAL</td>\n",
              "      <td>605.0</td>\n",
              "      <td>UNIVERSIDADE FEDERAL DO RIO GRANDE DO NORTE</td>\n",
              "    </tr>\n",
              "    <tr>\n",
              "      <th>1</th>\n",
              "      <td>20190088900</td>\n",
              "      <td>ABDIAS MONTEIRO DE ANDRADE MELO</td>\n",
              "      <td>M</td>\n",
              "      <td>2019</td>\n",
              "      <td>1.0</td>\n",
              "      <td>SiSU</td>\n",
              "      <td>REGULAR</td>\n",
              "      <td>ATIVO</td>\n",
              "      <td>G</td>\n",
              "      <td>GRADUAÇÃO</td>\n",
              "      <td>111635060.0</td>\n",
              "      <td>HISTÓRIA</td>\n",
              "      <td>PRESENCIAL</td>\n",
              "      <td>1482.0</td>\n",
              "      <td>CENTRO DE  ENSINO SUPERIOR DO SERIDÓ</td>\n",
              "      <td>1482.0</td>\n",
              "      <td>CENTRO DE  ENSINO SUPERIOR DO SERIDÓ</td>\n",
              "    </tr>\n",
              "    <tr>\n",
              "      <th>2</th>\n",
              "      <td>20190127606</td>\n",
              "      <td>ABDIAS SABINO RODRIGUES FILHO</td>\n",
              "      <td>M</td>\n",
              "      <td>2019</td>\n",
              "      <td>1.0</td>\n",
              "      <td>SiSU</td>\n",
              "      <td>REGULAR</td>\n",
              "      <td>CANCELADO</td>\n",
              "      <td>G</td>\n",
              "      <td>GRADUAÇÃO</td>\n",
              "      <td>111635060.0</td>\n",
              "      <td>HISTÓRIA</td>\n",
              "      <td>PRESENCIAL</td>\n",
              "      <td>1482.0</td>\n",
              "      <td>CENTRO DE  ENSINO SUPERIOR DO SERIDÓ</td>\n",
              "      <td>1482.0</td>\n",
              "      <td>CENTRO DE  ENSINO SUPERIOR DO SERIDÓ</td>\n",
              "    </tr>\n",
              "    <tr>\n",
              "      <th>3</th>\n",
              "      <td>20195001008</td>\n",
              "      <td>ABEL GOMES DE OLIVEIRA FILHO</td>\n",
              "      <td>M</td>\n",
              "      <td>2019</td>\n",
              "      <td>1.0</td>\n",
              "      <td>PROCESSO SELETIVO</td>\n",
              "      <td>REGULAR</td>\n",
              "      <td>ATIVO</td>\n",
              "      <td>F</td>\n",
              "      <td>FORMAÇÃO COMPLEMENTAR</td>\n",
              "      <td>112718836.0</td>\n",
              "      <td>CURSO DE LÍNGUA BRASILEIRA DE SINAIS (LIBRAS)</td>\n",
              "      <td>PRESENCIAL</td>\n",
              "      <td>6042.0</td>\n",
              "      <td>INSTITUTO ÁGORA - LÍNGUAS, LITERATURAS E CULTU...</td>\n",
              "      <td>442.0</td>\n",
              "      <td>CENTRO DE CIÊNCIAS HUMANAS, LETRAS E ARTES</td>\n",
              "    </tr>\n",
              "    <tr>\n",
              "      <th>4</th>\n",
              "      <td>20190032217</td>\n",
              "      <td>ABI AMANA DE AQUINO BEZERRA</td>\n",
              "      <td>F</td>\n",
              "      <td>2019</td>\n",
              "      <td>2.0</td>\n",
              "      <td>SiSU</td>\n",
              "      <td>REGULAR</td>\n",
              "      <td>ATIVO</td>\n",
              "      <td>G</td>\n",
              "      <td>GRADUAÇÃO</td>\n",
              "      <td>119512361.0</td>\n",
              "      <td>COMUNICAÇÃO SOCIAL - AUDIOVISUAL</td>\n",
              "      <td>PRESENCIAL</td>\n",
              "      <td>442.0</td>\n",
              "      <td>CENTRO DE CIÊNCIAS HUMANAS, LETRAS E ARTES</td>\n",
              "      <td>442.0</td>\n",
              "      <td>CENTRO DE CIÊNCIAS HUMANAS, LETRAS E ARTES</td>\n",
              "    </tr>\n",
              "  </tbody>\n",
              "</table>\n",
              "</div>"
            ],
            "text/plain": [
              "     matricula  ...                         nome_unidade_gestora\n",
              "0  20193012209  ...  UNIVERSIDADE FEDERAL DO RIO GRANDE DO NORTE\n",
              "1  20190088900  ...         CENTRO DE  ENSINO SUPERIOR DO SERIDÓ\n",
              "2  20190127606  ...         CENTRO DE  ENSINO SUPERIOR DO SERIDÓ\n",
              "3  20195001008  ...   CENTRO DE CIÊNCIAS HUMANAS, LETRAS E ARTES\n",
              "4  20190032217  ...   CENTRO DE CIÊNCIAS HUMANAS, LETRAS E ARTES\n",
              "\n",
              "[5 rows x 17 columns]"
            ]
          },
          "metadata": {
            "tags": []
          },
          "execution_count": 28
        }
      ]
    },
    {
      "cell_type": "markdown",
      "metadata": {
        "colab_type": "text",
        "id": "N4ij0OwfuPUu"
      },
      "source": [
        "* **Note**: complex logical expressions deserve specific research on the subject. Covering this topic in depth is beyond the scope of this notebook 🙃"
      ]
    }
  ]
}